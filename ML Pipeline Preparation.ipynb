{
 "cells": [
  {
   "cell_type": "markdown",
   "metadata": {},
   "source": [
    "# ML Pipeline Preparation\n",
    "Follow the instructions below to help you create your ML pipeline.\n",
    "### 1. Import libraries and load data from database.\n",
    "- Import Python libraries\n",
    "- Load dataset from database with [`read_sql_table`](https://pandas.pydata.org/pandas-docs/stable/generated/pandas.read_sql_table.html)\n",
    "- Define feature and target variables X and Y"
   ]
  },
  {
   "cell_type": "code",
   "execution_count": 195,
   "metadata": {
    "code_folding": [
     0
    ]
   },
   "outputs": [
    {
     "name": "stderr",
     "output_type": "stream",
     "text": [
      "[nltk_data] Downloading package punkt to\n",
      "[nltk_data]     C:\\Users\\yma80\\AppData\\Roaming\\nltk_data...\n",
      "[nltk_data]   Package punkt is already up-to-date!\n",
      "[nltk_data] Downloading package stopwords to\n",
      "[nltk_data]     C:\\Users\\yma80\\AppData\\Roaming\\nltk_data...\n",
      "[nltk_data]   Package stopwords is already up-to-date!\n",
      "[nltk_data] Downloading package wordnet to\n",
      "[nltk_data]     C:\\Users\\yma80\\AppData\\Roaming\\nltk_data...\n",
      "[nltk_data]   Package wordnet is already up-to-date!\n"
     ]
    }
   ],
   "source": [
    "# import libraries\n",
    "import pandas as pd\n",
    "from sqlalchemy import create_engine\n",
    "import re\n",
    "\n",
    "import nltk\n",
    "nltk.download(['punkt', 'stopwords', 'wordnet'])\n",
    "import numpy as np\n",
    "from nltk.corpus import stopwords\n",
    "from nltk.stem.wordnet import WordNetLemmatizer\n",
    "from sklearn.pipeline import Pipeline, FeatureUnion\n",
    "from sklearn.metrics import confusion_matrix, classification_report\n",
    "from sklearn.ensemble import RandomForestClassifier\n",
    "from sklearn.svm import SVC, LinearSVC\n",
    "from sklearn.model_selection import train_test_split, GridSearchCV\n",
    "from sklearn.base import BaseEstimator, TransformerMixin\n",
    "from sklearn.feature_extraction.text import CountVectorizer, TfidfTransformer\n",
    "from sklearn.multioutput import MultiOutputClassifier\n",
    "from sklearn.preprocessing import StandardScaler"
   ]
  },
  {
   "cell_type": "code",
   "execution_count": 258,
   "metadata": {
    "code_folding": [
     1,
     25
    ]
   },
   "outputs": [
    {
     "data": {
      "text/plain": [
       "Index(['id', 'message', 'original', 'genre', 'related', 'request', 'offer',\n",
       "       'aid_related', 'medical_help', 'medical_products', 'search_and_rescue',\n",
       "       'security', 'military', 'child_alone', 'water', 'food', 'shelter',\n",
       "       'clothing', 'money', 'missing_people', 'refugees', 'death', 'other_aid',\n",
       "       'infrastructure_related', 'transport', 'buildings', 'electricity',\n",
       "       'tools', 'hospitals', 'shops', 'aid_centers', 'other_infrastructure',\n",
       "       'weather_related', 'floods', 'storm', 'fire', 'earthquake', 'cold',\n",
       "       'other_weather', 'direct_report'],\n",
       "      dtype='object')"
      ]
     },
     "execution_count": 258,
     "metadata": {},
     "output_type": "execute_result"
    }
   ],
   "source": [
    "# load data from database\n",
    "def load_data(db_filepath='DisasterResponse.db', sample_frac=1.0):\n",
    "    \"\"\"Load the data from database.\n",
    "    Args:\n",
    "        db_filepath: str\n",
    "            Filepath to the SQL database.\n",
    "        sample_frac: int\n",
    "            Apply random subsampling and select only frac of entries.\n",
    "    Returns:\n",
    "        X, Y: np.ndarray or pandas.DataFrame\n",
    "            Matrices of predictors (messages) and responses.\n",
    "    \"\"\"\n",
    "    \n",
    "    engine = create_engine('sqlite:///'+db_filepath)\n",
    "    df = pd.read_sql_table('merged', engine).sample(frac=sample_frac, random_state=42)\n",
    "    X = df['message']\n",
    "    Y = df[['related', 'request', 'offer', 'aid_related', 'infrastructure_related', 'weather_related']]\n",
    "#     Y = df[ [c for c in df.columns if 'related' in c] ]\n",
    "#     Y = df[ [c for c in df.columns if c not in ('id', 'message', 'original')] ]\n",
    "#     Y = Y.replace({'genre':{'direct':0, 'news':1, 'social':2}})\n",
    "\n",
    "    category_names = Y.columns\n",
    "\n",
    "    return X, Y, category_names\n",
    "\n",
    "def display_results(y_test, y_pred):\n",
    "    labels = np.unique(y_pred)\n",
    "    confusion_mat = confusion_matrix(y_test, y_pred, labels=labels)\n",
    "    accuracy = (y_pred == y_test).mean()\n",
    "\n",
    "    print(\"Labels:\", labels)\n",
    "    print(\"Confusion Matrix:\\n\", confusion_mat)\n",
    "    print(\"Accuracy:\", accuracy)\n",
    "    \n",
    "engine = create_engine('sqlite:///DisasterResponse.db')\n",
    "df = pd.read_sql_table('merged', engine).sample(frac=1.0, random_state=42)\n",
    "X = df['message']\n",
    "Y = df[ [c for c in df.columns if c not in ('id', 'message', 'original')] ]\n",
    "df.describe()\n",
    "\n",
    "df.columns"
   ]
  },
  {
   "cell_type": "code",
   "execution_count": 252,
   "metadata": {
    "collapsed": true
   },
   "outputs": [
    {
     "data": {
      "text/plain": [
       "11096    I have many towels ( large , as well as hand t...\n",
       "11293    When and Where should hot meals be delivered t...\n",
       "11335    We did a large donation drive in our community...\n",
       "75             I am a driver, a mechanic ,. I want to help\n",
       "23986    Following the attack on Ngouboua village by ar...\n",
       "10646                    Clothes sorting . Giving out food\n",
       "10854    I can bring batteries , toiletries , non-peris...\n",
       "11202    Looking to donate new ( several-year shelf lif...\n",
       "25301    The returnees were provided with UNHCR's stand...\n",
       "18098    - UNFPA, WHO and UNICEF are building over 100 ...\n",
       "10992    I 'm a nutritionist and would be also happy to...\n",
       "10607    i 'm also good with food prep if there 's a ne...\n",
       "21684    UNICEF has already sent supplies to affected a...\n",
       "11187    Will provide & serve nonperishable food . Also...\n",
       "25201    MSF teams are active with one Zodiac (inflatab...\n",
       "25291    World Bank Country Director Xian Zhu told a pr...\n",
       "18008    This assistance, valued at $200.7 million, was...\n",
       "20592    Air Serv are based in Sabang, operating 7 heli...\n",
       "22920    We are vaccinating the children against tuberc...\n",
       "10666    Friendly and good with people . healthy and wo...\n",
       "25641    45 geminies (Inflatable rubber boats) along wi...\n",
       "16970    Canadians also showed tremendous generosity th...\n",
       "10468    RT Footz95 RT RealDjKayslay Help Haiti Earthqu...\n",
       "10879    I have both clothing and non-perishable foods ...\n",
       "22578    The administration will build low-rent apartme...\n",
       "11274    i am a food service worker , i can cook and de...\n",
       "18858    Tax-deductible donations can be made online at...\n",
       "22693    Planning to distribute 1,000 household kits co...\n",
       "25950    Communications: IBM will be establishing a wir...\n",
       "10718    Legos , A file cabinet Girl clothing Books Gam...\n",
       "                               ...                        \n",
       "10771    I can cook and would be happy to try to provid...\n",
       "10566          We can bring prepared food and kid snacks .\n",
       "10386    Various places online & charity shops where yo...\n",
       "17296    WFP will provide support by: i) rehabilitating...\n",
       "25381    **CAFOD's partners are providing clean water a...\n",
       "24085    The ICRC, in cooperation with the Internationa...\n",
       "10832    interested in donating food , blankets , and t...\n",
       "18278    To provide access to communications networks o...\n",
       "23540    We are trying to prevent such food rioting by ...\n",
       "10762                       Distribute food and supplies .\n",
       "26078    The Philippines announced Wednesday it was dis...\n",
       "13704    Mercy-USA for Aid and Development (M-USA) is c...\n",
       "10539    I am in decent shape , so can climb stairs to ...\n",
       "11087       prepare food package , help to deliver food ..\n",
       "19555    Various levels of governments have immediately...\n",
       "21542    They arrive in a jeep stocked with lifesaving ...\n",
       "11927    In a military helicopter taking food supplies ...\n",
       "24910    Islamic Relief and IOM plan to use jeeps to de...\n",
       "11002    @RandomCravings your welcome . If I can help i...\n",
       "17047    Fritz Institute is a non-profit organization d...\n",
       "10736    i have some canned foods , cereals and s bit o...\n",
       "5330     Let's work together to save Haiti, trust in Go...\n",
       "17484    We have provided $41 million so far out of tha...\n",
       "17370    It concentrated on two areas: firstly, the reh...\n",
       "11344    I have several items I can donate including : ...\n",
       "10787    I can help packing and distributing food and s...\n",
       "20645    Working together with the Canadian Red Cross, ...\n",
       "13051    Volunteering! Hot food 4 those w/o power, shel...\n",
       "19307    In Meulaboh we are currently providing water a...\n",
       "23093    She said efforts were underway to ensure shelt...\n",
       "Name: message, Length: 118, dtype: object"
      ]
     },
     "execution_count": 252,
     "metadata": {},
     "output_type": "execute_result"
    }
   ],
   "source": [
    "# Investigate the hierarchy of responses\n",
    "df['req_or_off'] = df.request | df.offer\n",
    "df['any_related'] = df.aid_related | df.infrastructure_related | df.weather_related\n",
    "\n",
    "df1 = df.query(\"related == 1\")\n",
    "\n",
    "df1.query(\"req_or_off==0\")[['req_or_off', 'direct_report']+[c for c in df.columns if 'related' in c]].describe()\n",
    "\n",
    "df1.query(\"offer==1\").message"
   ]
  },
  {
   "cell_type": "markdown",
   "metadata": {},
   "source": [
    "### 2. Write a tokenization function to process your text data"
   ]
  },
  {
   "cell_type": "code",
   "execution_count": 4,
   "metadata": {
    "code_folding": [
     0
    ]
   },
   "outputs": [
    {
     "name": "stdout",
     "output_type": "stream",
     "text": [
      "['machine', 'pipeline', 'take', 'message', 'column', 'input', 'output', 'classification', 'result', 'categories', 'dataset', 'may', 'find', 'multioutput', 'classifier', 'helpful', 'predict', 'multiple', 'target', 'variables']\n"
     ]
    }
   ],
   "source": [
    "def tokenize(text):\n",
    "    \"\"\"Turn a text string into an array of words.\n",
    "        Args:\n",
    "            text: str\n",
    "        Returns:\n",
    "            A list of lemmatised tokens (words).\n",
    "    \"\"\"\n",
    "    \n",
    "    text = text.lower()\n",
    "    text = re.sub(r'[^a-z]', ' ', text)\n",
    "    \n",
    "    text = nltk.word_tokenize(text)\n",
    "    \n",
    "    text = [w for w in text if w not in stopwords.words('english')]\n",
    "    \n",
    "    # Reduce words to their root form\n",
    "    text = [WordNetLemmatizer().lemmatize(w, pos='v') for w in text]\n",
    "    \n",
    "    return text\n",
    "\n",
    "text = 'This machine pipeline should take in the message column as input and output classification results on the other 36 categories in the dataset. You may find the MultiOutput Classifier helpful for predicting multiple target variables.'\n",
    "\n",
    "print(tokenize(text))"
   ]
  },
  {
   "cell_type": "markdown",
   "metadata": {},
   "source": [
    "### 3. Build a machine learning pipeline\n",
    "This machine pipeline should take in the `message` column as input and output classification results on the other 36 categories in the dataset. You may find the [MultiOutputClassifier](http://scikit-learn.org/stable/modules/generated/sklearn.multioutput.MultiOutputClassifier.html) helpful for predicting multiple target variables."
   ]
  },
  {
   "cell_type": "markdown",
   "metadata": {},
   "source": [
    "#### 3.1 Classify Related/Unrelated messages"
   ]
  },
  {
   "cell_type": "code",
   "execution_count": 287,
   "metadata": {},
   "outputs": [],
   "source": [
    "X, Y, cat_names = load_data(sample_frac=1.0)\n",
    "X_train_txt, X_test_txt, Y_train, Y_test = train_test_split(X, Y, random_state=42, test_size=0.25)"
   ]
  },
  {
   "cell_type": "code",
   "execution_count": 301,
   "metadata": {
    "code_folding": [
     0,
     18,
     27,
     36
    ]
   },
   "outputs": [],
   "source": [
    "class StartingVerbExtractor(BaseEstimator, TransformerMixin):\n",
    "\n",
    "    def starting_verb(self, text):\n",
    "        sentence_list = nltk.sent_tokenize(text)\n",
    "        for sentence in sentence_list:\n",
    "            pos_tags = nltk.pos_tag(tokenize(sentence))\n",
    "            first_word, first_tag = pos_tags[0]\n",
    "            if first_tag in ['VB', 'VBP'] or first_word == 'RT':\n",
    "                return True\n",
    "        return False\n",
    "\n",
    "    def fit(self, X, y=None):\n",
    "        return self\n",
    "\n",
    "    def transform(self, X):\n",
    "        X_tagged = pd.Series(X).apply(self.starting_verb)\n",
    "        return pd.DataFrame(X_tagged)\n",
    "    \n",
    "class LengthEstimator(BaseEstimator, TransformerMixin):\n",
    "    \"\"\"A custom transformer class to estimate the length of a message.\"\"\"\n",
    "\n",
    "    def fit(self, X, y=None, **fit_params):\n",
    "        return self\n",
    "\n",
    "    def transform(self, X, **fit_params):\n",
    "        return pd.DataFrame(pd.Series(X).str.len())\n",
    "    \n",
    "class DenseTransformer(TransformerMixin):\n",
    "    \"\"\"Transforms a sparse matrix to its dense representation.\"\"\"\n",
    "\n",
    "    def fit(self, X, y=None, **fit_params):\n",
    "        return self\n",
    "\n",
    "    def transform(self, X, y=None, **fit_params):\n",
    "        return X.todense()\n",
    "    \n",
    "pl_TextVectorise = Pipeline([\n",
    "                        ('vectr', CountVectorizer(tokenizer=tokenize)),\n",
    "                        ('tfidf', TfidfTransformer()),\n",
    "                        ('dense', DenseTransformer()),\n",
    "                        ('scale', StandardScaler())\n",
    "                ])\n",
    "\n",
    "pl_FullNLP = FeatureUnion([\n",
    "                            ('txtvec', pl_TextVectorise),\n",
    "                            ('length', LengthEstimator())\n",
    "                    ])\n",
    "\n",
    "X_train = pl_FullNLP.fit_transform(X_train_txt)\n",
    "X_test = pl_FullNLP.transform(X_test_txt)"
   ]
  },
  {
   "cell_type": "code",
   "execution_count": 302,
   "metadata": {},
   "outputs": [
    {
     "data": {
      "text/plain": [
       "array([[ -1.53493823e-02,  -7.13666986e-03,  -7.13666986e-03, ...,\n",
       "         -7.13666986e-03,  -7.13666986e-03,   1.05000000e+02],\n",
       "       [ -1.53493823e-02,  -7.13666986e-03,  -7.13666986e-03, ...,\n",
       "         -7.13666986e-03,  -7.13666986e-03,   5.80000000e+01],\n",
       "       [ -1.53493823e-02,  -7.13666986e-03,  -7.13666986e-03, ...,\n",
       "         -7.13666986e-03,  -7.13666986e-03,   1.86000000e+02],\n",
       "       ..., \n",
       "       [ -1.53493823e-02,  -7.13666986e-03,  -7.13666986e-03, ...,\n",
       "         -7.13666986e-03,  -7.13666986e-03,   1.88000000e+02],\n",
       "       [ -1.53493823e-02,  -7.13666986e-03,  -7.13666986e-03, ...,\n",
       "         -7.13666986e-03,  -7.13666986e-03,   2.07000000e+02],\n",
       "       [ -1.53493823e-02,  -7.13666986e-03,  -7.13666986e-03, ...,\n",
       "         -7.13666986e-03,  -7.13666986e-03,   1.32000000e+02]])"
      ]
     },
     "execution_count": 302,
     "metadata": {},
     "output_type": "execute_result"
    }
   ],
   "source": [
    "X_test"
   ]
  },
  {
   "cell_type": "code",
   "execution_count": null,
   "metadata": {},
   "outputs": [
    {
     "name": "stderr",
     "output_type": "stream",
     "text": [
      "C:\\Users\\yma80\\AppData\\Local\\Continuum\\anaconda3\\envs\\py35\\lib\\site-packages\\sklearn\\svm\\base.py:196: FutureWarning: The default value of gamma will change from 'auto' to 'scale' in version 0.22 to account better for unscaled features. Set gamma explicitly to 'auto' or 'scale' to avoid this warning.\n",
      "  \"avoid this warning.\", FutureWarning)\n"
     ]
    }
   ],
   "source": [
    "base_clsfr = LogisticRegression(solver='lbfgs', random_state=0)\n",
    "pipeline = Pipeline([\n",
    "#                 ('vectr', CountVectorizer(tokenizer=tokenize)),\n",
    "#                 ('tfidf', TfidfTransformer()),\n",
    "# #                 ('clf', RandomForestClassifier()),\n",
    "# #                  ('dense', DenseTransformer()),\n",
    "# #                  ('scale', StandardScaler()),\n",
    "#                 ('clsfr', LinearSVC(C = 1, dual=False))\n",
    "                ('clsfr', MultiOutputClassifier(SVC(gamma='auto')))\n",
    "#                 ('chain', ClassifierChain(base_clsfr, order = [0,1,2,3,4,5]))\n",
    "           ])\n",
    "\n",
    "\n",
    "\n",
    "# train classifier\n",
    "pipeline.fit(X_train, Y_train)\n",
    "\n",
    "# predict on test data\n",
    "Y_pred = pipeline.predict(X_test)\n",
    "\n",
    "Y_pred = pd.DataFrame(Y_pred, columns = Y_test.columns)\n",
    "Y_pred.describe()"
   ]
  },
  {
   "cell_type": "code",
   "execution_count": 304,
   "metadata": {},
   "outputs": [
    {
     "name": "stdout",
     "output_type": "stream",
     "text": [
      "              precision    recall  f1-score   support\n",
      "\n",
      "           0       0.85      0.84      0.84      4966\n",
      "           1       0.47      0.56      0.51      1085\n",
      "           2       0.00      0.00      0.00        37\n",
      "           3       0.59      0.64      0.62      2710\n",
      "           4       0.11      0.12      0.12       416\n",
      "           5       0.61      0.65      0.63      1820\n",
      "\n",
      "   micro avg       0.67      0.70      0.68     11034\n",
      "   macro avg       0.44      0.47      0.45     11034\n",
      "weighted avg       0.68      0.70      0.69     11034\n",
      " samples avg       0.55      0.54      0.51     11034\n",
      "\n"
     ]
    },
    {
     "name": "stderr",
     "output_type": "stream",
     "text": [
      "C:\\Users\\yma80\\AppData\\Local\\Continuum\\anaconda3\\envs\\py35\\lib\\site-packages\\sklearn\\metrics\\classification.py:1143: UndefinedMetricWarning: Precision and F-score are ill-defined and being set to 0.0 in samples with no predicted labels.\n",
      "  'precision', 'predicted', average, warn_for)\n",
      "C:\\Users\\yma80\\AppData\\Local\\Continuum\\anaconda3\\envs\\py35\\lib\\site-packages\\sklearn\\metrics\\classification.py:1145: UndefinedMetricWarning: Recall and F-score are ill-defined and being set to 0.0 in samples with no true labels.\n",
      "  'recall', 'true', average, warn_for)\n"
     ]
    }
   ],
   "source": [
    "print(classification_report(Y_test, Y_pred))"
   ]
  },
  {
   "cell_type": "code",
   "execution_count": 197,
   "metadata": {
    "code_folding": []
   },
   "outputs": [],
   "source": [
    "#\n",
    "pipeline = Pipeline([\n",
    "                ('vectr', CountVectorizer(tokenizer=tokenize)),\n",
    "                ('tfidf', TfidfTransformer()),\n",
    "#                 ('clf', RandomForestClassifier()),\n",
    "                #         ('dense', DenseTransformer()),\n",
    "#                 ('scale', StandardScaler()),\n",
    "#                 ('clsfr', LinearSVC())\n",
    "                ('clsfr', MultiOutputClassifier(LinearSVC()))\n",
    "           ])\n",
    "# pipeline.get_params()"
   ]
  },
  {
   "cell_type": "code",
   "execution_count": 281,
   "metadata": {
    "scrolled": true
   },
   "outputs": [
    {
     "data": {
      "text/plain": [
       "sklearn.pipeline.Pipeline"
      ]
     },
     "execution_count": 281,
     "metadata": {},
     "output_type": "execute_result"
    }
   ],
   "source": [
    "pipeline.get_params()\n",
    "# print(classification_report(Y_test['related'], Y_pred))\n",
    "type(model)"
   ]
  },
  {
   "cell_type": "code",
   "execution_count": 242,
   "metadata": {},
   "outputs": [
    {
     "name": "stdout",
     "output_type": "stream",
     "text": [
      "Fitting 5 folds for each of 18 candidates, totalling 90 fits\n",
      "[CV] clsfr__C=0.1, clsfr__penalty=l1 .................................\n",
      "[CV]  clsfr__C=0.1, clsfr__penalty=l1, score=0.7690355329949239, total=   0.0s\n",
      "[CV] clsfr__C=0.1, clsfr__penalty=l1 .................................\n",
      "[CV]  clsfr__C=0.1, clsfr__penalty=l1, score=0.7735368956743003, total=   0.0s\n",
      "[CV] clsfr__C=0.1, clsfr__penalty=l1 .................................\n",
      "[CV]  clsfr__C=0.1, clsfr__penalty=l1, score=0.7704081632653061, total=   0.0s\n",
      "[CV] clsfr__C=0.1, clsfr__penalty=l1 .................................\n",
      "[CV]  clsfr__C=0.1, clsfr__penalty=l1, score=0.7678571428571429, total=   0.0s\n",
      "[CV] clsfr__C=0.1, clsfr__penalty=l1 .................................\n",
      "[CV]  clsfr__C=0.1, clsfr__penalty=l1, score=0.7627551020408163, total=   0.0s\n",
      "[CV] clsfr__C=0.1, clsfr__penalty=l2 .................................\n",
      "[CV]  clsfr__C=0.1, clsfr__penalty=l2, score=0.7690355329949239, total=   0.0s\n",
      "[CV] clsfr__C=0.1, clsfr__penalty=l2 .................................\n",
      "[CV]  clsfr__C=0.1, clsfr__penalty=l2, score=0.7811704834605598, total=   0.0s\n",
      "[CV] clsfr__C=0.1, clsfr__penalty=l2 .................................\n",
      "[CV]  clsfr__C=0.1, clsfr__penalty=l2, score=0.7729591836734694, total=   0.0s\n",
      "[CV] clsfr__C=0.1, clsfr__penalty=l2 .................................\n",
      "[CV]  clsfr__C=0.1, clsfr__penalty=l2, score=0.7831632653061225, total=   0.0s\n",
      "[CV] clsfr__C=0.1, clsfr__penalty=l2 .................................\n",
      "[CV]  clsfr__C=0.1, clsfr__penalty=l2, score=0.7653061224489796, total=   0.0s\n",
      "[CV] clsfr__C=0.4, clsfr__penalty=l1 .................................\n",
      "[CV]  clsfr__C=0.4, clsfr__penalty=l1, score=0.7766497461928934, total=   0.0s\n",
      "[CV] clsfr__C=0.4, clsfr__penalty=l1 .................................\n",
      "[CV]  clsfr__C=0.4, clsfr__penalty=l1, score=0.7989821882951654, total=   0.0s\n",
      "[CV] clsfr__C=0.4, clsfr__penalty=l1 .................................\n",
      "[CV]  clsfr__C=0.4, clsfr__penalty=l1, score=0.7806122448979592, total=   0.0s\n",
      "[CV] clsfr__C=0.4, clsfr__penalty=l1 .................................\n",
      "[CV]  clsfr__C=0.4, clsfr__penalty=l1, score=0.8010204081632653, total=   0.0s\n",
      "[CV] clsfr__C=0.4, clsfr__penalty=l1 .................................\n",
      "[CV]  clsfr__C=0.4, clsfr__penalty=l1, score=0.7831632653061225, total=   0.0s\n",
      "[CV] clsfr__C=0.4, clsfr__penalty=l2 .................................\n",
      "[CV]  clsfr__C=0.4, clsfr__penalty=l2, score=0.7715736040609137, total=   0.0s\n",
      "[CV] clsfr__C=0.4, clsfr__penalty=l2 .................................\n",
      "[CV]  clsfr__C=0.4, clsfr__penalty=l2, score=0.806615776081425, total=   0.0s\n",
      "[CV] clsfr__C=0.4, clsfr__penalty=l2 .................................\n",
      "[CV]  clsfr__C=0.4, clsfr__penalty=l2, score=0.7908163265306123, total=   0.0s\n",
      "[CV] clsfr__C=0.4, clsfr__penalty=l2 .................................\n",
      "[CV]  clsfr__C=0.4, clsfr__penalty=l2, score=0.8061224489795918, total=   0.0s\n",
      "[CV] clsfr__C=0.4, clsfr__penalty=l2 .................................\n",
      "[CV]  clsfr__C=0.4, clsfr__penalty=l2, score=0.798469387755102, total=   0.0s\n",
      "[CV] clsfr__C=0.5, clsfr__penalty=l1 .................................\n",
      "[CV]  clsfr__C=0.5, clsfr__penalty=l1, score=0.7766497461928934, total=   0.0s\n",
      "[CV] clsfr__C=0.5, clsfr__penalty=l1 .................................\n",
      "[CV]  clsfr__C=0.5, clsfr__penalty=l1, score=0.7964376590330788, total=   0.0s\n",
      "[CV] clsfr__C=0.5, clsfr__penalty=l1 .................................\n",
      "[CV]  clsfr__C=0.5, clsfr__penalty=l1, score=0.7729591836734694, total=   0.0s\n",
      "[CV] clsfr__C=0.5, clsfr__penalty=l1 .................................\n",
      "[CV]  clsfr__C=0.5, clsfr__penalty=l1, score=0.7933673469387755, total=   0.0s\n",
      "[CV] clsfr__C=0.5, clsfr__penalty=l1 .................................\n",
      "[CV]  clsfr__C=0.5, clsfr__penalty=l1, score=0.7882653061224489, total=   0.0s\n",
      "[CV] clsfr__C=0.5, clsfr__penalty=l2 .................................\n",
      "[CV]  clsfr__C=0.5, clsfr__penalty=l2, score=0.7766497461928934, total=   0.0s\n",
      "[CV] clsfr__C=0.5, clsfr__penalty=l2 .................................\n"
     ]
    },
    {
     "name": "stderr",
     "output_type": "stream",
     "text": [
      "[Parallel(n_jobs=1)]: Using backend SequentialBackend with 1 concurrent workers.\n",
      "[Parallel(n_jobs=1)]: Done   1 out of   1 | elapsed:    0.0s remaining:    0.0s\n",
      "[Parallel(n_jobs=1)]: Done   2 out of   2 | elapsed:    0.0s remaining:    0.0s\n",
      "[Parallel(n_jobs=1)]: Done   3 out of   3 | elapsed:    0.0s remaining:    0.0s\n"
     ]
    },
    {
     "name": "stdout",
     "output_type": "stream",
     "text": [
      "[CV]  clsfr__C=0.5, clsfr__penalty=l2, score=0.811704834605598, total=   0.0s\n",
      "[CV] clsfr__C=0.5, clsfr__penalty=l2 .................................\n",
      "[CV]  clsfr__C=0.5, clsfr__penalty=l2, score=0.7933673469387755, total=   0.0s\n",
      "[CV] clsfr__C=0.5, clsfr__penalty=l2 .................................\n",
      "[CV]  clsfr__C=0.5, clsfr__penalty=l2, score=0.8010204081632653, total=   0.0s\n",
      "[CV] clsfr__C=0.5, clsfr__penalty=l2 .................................\n",
      "[CV]  clsfr__C=0.5, clsfr__penalty=l2, score=0.8010204081632653, total=   0.0s\n",
      "[CV] clsfr__C=0.6, clsfr__penalty=l1 .................................\n",
      "[CV]  clsfr__C=0.6, clsfr__penalty=l1, score=0.7715736040609137, total=   0.0s\n",
      "[CV] clsfr__C=0.6, clsfr__penalty=l1 .................................\n",
      "[CV]  clsfr__C=0.6, clsfr__penalty=l1, score=0.7964376590330788, total=   0.0s\n",
      "[CV] clsfr__C=0.6, clsfr__penalty=l1 .................................\n",
      "[CV]  clsfr__C=0.6, clsfr__penalty=l1, score=0.7806122448979592, total=   0.0s\n",
      "[CV] clsfr__C=0.6, clsfr__penalty=l1 .................................\n",
      "[CV]  clsfr__C=0.6, clsfr__penalty=l1, score=0.7908163265306123, total=   0.0s\n",
      "[CV] clsfr__C=0.6, clsfr__penalty=l1 .................................\n",
      "[CV]  clsfr__C=0.6, clsfr__penalty=l1, score=0.7933673469387755, total=   0.0s\n",
      "[CV] clsfr__C=0.6, clsfr__penalty=l2 .................................\n",
      "[CV]  clsfr__C=0.6, clsfr__penalty=l2, score=0.7766497461928934, total=   0.0s\n",
      "[CV] clsfr__C=0.6, clsfr__penalty=l2 .................................\n",
      "[CV]  clsfr__C=0.6, clsfr__penalty=l2, score=0.806615776081425, total=   0.0s\n",
      "[CV] clsfr__C=0.6, clsfr__penalty=l2 .................................\n",
      "[CV]  clsfr__C=0.6, clsfr__penalty=l2, score=0.7933673469387755, total=   0.0s\n",
      "[CV] clsfr__C=0.6, clsfr__penalty=l2 .................................\n",
      "[CV]  clsfr__C=0.6, clsfr__penalty=l2, score=0.8035714285714286, total=   0.0s\n",
      "[CV] clsfr__C=0.6, clsfr__penalty=l2 .................................\n",
      "[CV]  clsfr__C=0.6, clsfr__penalty=l2, score=0.798469387755102, total=   0.0s\n",
      "[CV] clsfr__C=1.0, clsfr__penalty=l1 .................................\n",
      "[CV]  clsfr__C=1.0, clsfr__penalty=l1, score=0.7639593908629442, total=   0.0s\n",
      "[CV] clsfr__C=1.0, clsfr__penalty=l1 .................................\n",
      "[CV]  clsfr__C=1.0, clsfr__penalty=l1, score=0.7964376590330788, total=   0.0s\n",
      "[CV] clsfr__C=1.0, clsfr__penalty=l1 .................................\n",
      "[CV]  clsfr__C=1.0, clsfr__penalty=l1, score=0.7857142857142857, total=   0.0s\n",
      "[CV] clsfr__C=1.0, clsfr__penalty=l1 .................................\n",
      "[CV]  clsfr__C=1.0, clsfr__penalty=l1, score=0.7857142857142857, total=   0.0s\n",
      "[CV] clsfr__C=1.0, clsfr__penalty=l1 .................................\n",
      "[CV]  clsfr__C=1.0, clsfr__penalty=l1, score=0.7908163265306123, total=   0.0s\n",
      "[CV] clsfr__C=1.0, clsfr__penalty=l2 .................................\n",
      "[CV]  clsfr__C=1.0, clsfr__penalty=l2, score=0.7766497461928934, total=   0.0s\n",
      "[CV] clsfr__C=1.0, clsfr__penalty=l2 .................................\n",
      "[CV]  clsfr__C=1.0, clsfr__penalty=l2, score=0.8091603053435115, total=   0.0s\n",
      "[CV] clsfr__C=1.0, clsfr__penalty=l2 .................................\n",
      "[CV]  clsfr__C=1.0, clsfr__penalty=l2, score=0.7882653061224489, total=   0.0s\n",
      "[CV] clsfr__C=1.0, clsfr__penalty=l2 .................................\n",
      "[CV]  clsfr__C=1.0, clsfr__penalty=l2, score=0.7959183673469388, total=   0.0s\n",
      "[CV] clsfr__C=1.0, clsfr__penalty=l2 .................................\n",
      "[CV]  clsfr__C=1.0, clsfr__penalty=l2, score=0.7857142857142857, total=   0.0s\n",
      "[CV] clsfr__C=2.0, clsfr__penalty=l1 .................................\n",
      "[CV]  clsfr__C=2.0, clsfr__penalty=l1, score=0.7791878172588832, total=   0.0s\n",
      "[CV] clsfr__C=2.0, clsfr__penalty=l1 .................................\n",
      "[CV]  clsfr__C=2.0, clsfr__penalty=l1, score=0.7811704834605598, total=   0.0s\n",
      "[CV] clsfr__C=2.0, clsfr__penalty=l1 .................................\n",
      "[CV]  clsfr__C=2.0, clsfr__penalty=l1, score=0.7831632653061225, total=   0.0s\n",
      "[CV] clsfr__C=2.0, clsfr__penalty=l1 .................................\n",
      "[CV]  clsfr__C=2.0, clsfr__penalty=l1, score=0.7755102040816326, total=   0.0s\n",
      "[CV] clsfr__C=2.0, clsfr__penalty=l1 .................................\n",
      "[CV]  clsfr__C=2.0, clsfr__penalty=l1, score=0.7959183673469388, total=   0.0s\n",
      "[CV] clsfr__C=2.0, clsfr__penalty=l2 .................................\n",
      "[CV]  clsfr__C=2.0, clsfr__penalty=l2, score=0.7741116751269036, total=   0.0s\n",
      "[CV] clsfr__C=2.0, clsfr__penalty=l2 .................................\n",
      "[CV]  clsfr__C=2.0, clsfr__penalty=l2, score=0.8015267175572519, total=   0.0s\n",
      "[CV] clsfr__C=2.0, clsfr__penalty=l2 .................................\n",
      "[CV]  clsfr__C=2.0, clsfr__penalty=l2, score=0.7831632653061225, total=   0.0s\n",
      "[CV] clsfr__C=2.0, clsfr__penalty=l2 .................................\n",
      "[CV]  clsfr__C=2.0, clsfr__penalty=l2, score=0.8035714285714286, total=   0.0s\n",
      "[CV] clsfr__C=2.0, clsfr__penalty=l2 .................................\n",
      "[CV]  clsfr__C=2.0, clsfr__penalty=l2, score=0.7755102040816326, total=   0.0s\n",
      "[CV] clsfr__C=5.0, clsfr__penalty=l1 .................................\n",
      "[CV]  clsfr__C=5.0, clsfr__penalty=l1, score=0.766497461928934, total=   0.0s\n",
      "[CV] clsfr__C=5.0, clsfr__penalty=l1 .................................\n",
      "[CV]  clsfr__C=5.0, clsfr__penalty=l1, score=0.7633587786259542, total=   0.0s\n",
      "[CV] clsfr__C=5.0, clsfr__penalty=l1 .................................\n",
      "[CV]  clsfr__C=5.0, clsfr__penalty=l1, score=0.7806122448979592, total=   0.0s\n",
      "[CV] clsfr__C=5.0, clsfr__penalty=l1 .................................\n",
      "[CV]  clsfr__C=5.0, clsfr__penalty=l1, score=0.7551020408163265, total=   0.0s\n",
      "[CV] clsfr__C=5.0, clsfr__penalty=l1 .................................\n",
      "[CV]  clsfr__C=5.0, clsfr__penalty=l1, score=0.7602040816326531, total=   0.0s\n",
      "[CV] clsfr__C=5.0, clsfr__penalty=l2 .................................\n",
      "[CV]  clsfr__C=5.0, clsfr__penalty=l2, score=0.766497461928934, total=   0.0s\n",
      "[CV] clsfr__C=5.0, clsfr__penalty=l2 .................................\n",
      "[CV]  clsfr__C=5.0, clsfr__penalty=l2, score=0.7913486005089059, total=   0.0s\n",
      "[CV] clsfr__C=5.0, clsfr__penalty=l2 .................................\n",
      "[CV]  clsfr__C=5.0, clsfr__penalty=l2, score=0.7831632653061225, total=   0.0s\n",
      "[CV] clsfr__C=5.0, clsfr__penalty=l2 .................................\n",
      "[CV]  clsfr__C=5.0, clsfr__penalty=l2, score=0.7908163265306123, total=   0.0s\n",
      "[CV] clsfr__C=5.0, clsfr__penalty=l2 .................................\n",
      "[CV]  clsfr__C=5.0, clsfr__penalty=l2, score=0.7704081632653061, total=   0.0s\n",
      "[CV] clsfr__C=10.0, clsfr__penalty=l1 ................................\n",
      "[CV]  clsfr__C=10.0, clsfr__penalty=l1, score=0.7538071065989848, total=   0.0s\n",
      "[CV] clsfr__C=10.0, clsfr__penalty=l1 ................................\n"
     ]
    },
    {
     "name": "stderr",
     "output_type": "stream",
     "text": [
      "C:\\Users\\yma80\\AppData\\Local\\Continuum\\anaconda3\\envs\\py35\\lib\\site-packages\\sklearn\\svm\\base.py:922: ConvergenceWarning: Liblinear failed to converge, increase the number of iterations.\n",
      "  \"the number of iterations.\", ConvergenceWarning)\n"
     ]
    },
    {
     "name": "stdout",
     "output_type": "stream",
     "text": [
      "[CV]  clsfr__C=10.0, clsfr__penalty=l1, score=0.7506361323155216, total=   0.0s\n",
      "[CV] clsfr__C=10.0, clsfr__penalty=l1 ................................\n",
      "[CV]  clsfr__C=10.0, clsfr__penalty=l1, score=0.7831632653061225, total=   0.0s\n",
      "[CV] clsfr__C=10.0, clsfr__penalty=l1 ................................\n",
      "[CV]  clsfr__C=10.0, clsfr__penalty=l1, score=0.7653061224489796, total=   0.0s\n",
      "[CV] clsfr__C=10.0, clsfr__penalty=l1 ................................\n",
      "[CV]  clsfr__C=10.0, clsfr__penalty=l1, score=0.7576530612244898, total=   0.0s\n",
      "[CV] clsfr__C=10.0, clsfr__penalty=l2 ................................\n",
      "[CV]  clsfr__C=10.0, clsfr__penalty=l2, score=0.7690355329949239, total=   0.0s\n",
      "[CV] clsfr__C=10.0, clsfr__penalty=l2 ................................\n",
      "[CV]  clsfr__C=10.0, clsfr__penalty=l2, score=0.7837150127226463, total=   0.0s\n",
      "[CV] clsfr__C=10.0, clsfr__penalty=l2 ................................\n",
      "[CV]  clsfr__C=10.0, clsfr__penalty=l2, score=0.7780612244897959, total=   0.0s\n",
      "[CV] clsfr__C=10.0, clsfr__penalty=l2 ................................\n",
      "[CV]  clsfr__C=10.0, clsfr__penalty=l2, score=0.7729591836734694, total=   0.0s\n",
      "[CV] clsfr__C=10.0, clsfr__penalty=l2 ................................\n",
      "[CV]  clsfr__C=10.0, clsfr__penalty=l2, score=0.7448979591836735, total=   0.0s\n",
      "[CV] clsfr__C=100.0, clsfr__penalty=l1 ...............................\n",
      "[CV]  clsfr__C=100.0, clsfr__penalty=l1, score=0.7791878172588832, total=   0.1s\n",
      "[CV] clsfr__C=100.0, clsfr__penalty=l1 ...............................\n",
      "[CV]  clsfr__C=100.0, clsfr__penalty=l1, score=0.7379134860050891, total=   0.0s\n",
      "[CV] clsfr__C=100.0, clsfr__penalty=l1 ...............................\n",
      "[CV]  clsfr__C=100.0, clsfr__penalty=l1, score=0.7602040816326531, total=   0.0s\n",
      "[CV] clsfr__C=100.0, clsfr__penalty=l1 ...............................\n",
      "[CV]  clsfr__C=100.0, clsfr__penalty=l1, score=0.7576530612244898, total=   0.0s\n",
      "[CV] clsfr__C=100.0, clsfr__penalty=l1 ...............................\n",
      "[CV]  clsfr__C=100.0, clsfr__penalty=l1, score=0.7321428571428571, total=   0.0s\n",
      "[CV] clsfr__C=100.0, clsfr__penalty=l2 ...............................\n",
      "[CV]  clsfr__C=100.0, clsfr__penalty=l2, score=0.7766497461928934, total=   0.0s\n",
      "[CV] clsfr__C=100.0, clsfr__penalty=l2 ...............................\n",
      "[CV]  clsfr__C=100.0, clsfr__penalty=l2, score=0.7506361323155216, total=   0.0s\n",
      "[CV] clsfr__C=100.0, clsfr__penalty=l2 ...............................\n",
      "[CV]  clsfr__C=100.0, clsfr__penalty=l2, score=0.7576530612244898, total=   0.0s\n",
      "[CV] clsfr__C=100.0, clsfr__penalty=l2 ...............................\n",
      "[CV]  clsfr__C=100.0, clsfr__penalty=l2, score=0.7448979591836735, total=   0.0s\n",
      "[CV] clsfr__C=100.0, clsfr__penalty=l2 ...............................\n",
      "[CV]  clsfr__C=100.0, clsfr__penalty=l2, score=0.7423469387755102, total=   0.0s\n"
     ]
    },
    {
     "name": "stderr",
     "output_type": "stream",
     "text": [
      "[Parallel(n_jobs=1)]: Done  90 out of  90 | elapsed:    3.1s finished\n"
     ]
    }
   ],
   "source": [
    "parameters = {'vectr__max_df' : [1.0, 0.8, 0.7, 0.6],\n",
    "              'vectr__min_df' : [0.0, 0.01]}\n",
    "parameters = {'clsfr__C' : [0.1, 0.4, 0.5, 0.6, 1.0, 2.0, 5.0, 10.0, 100.0],\n",
    "              'clsfr__penalty': ['l1', 'l2']}\n",
    "\n",
    "cv = GridSearchCV(pipeline, param_grid=parameters, cv=5, verbose=4)\n",
    "\n",
    "cv.fit(X_train, Y_train['related'])\n",
    "\n",
    "model = cv.best_estimator_"
   ]
  },
  {
   "cell_type": "markdown",
   "metadata": {},
   "source": [
    "### 4. Train pipeline\n",
    "- Split data into train and test sets\n",
    "- Train pipeline"
   ]
  },
  {
   "cell_type": "code",
   "execution_count": 151,
   "metadata": {},
   "outputs": [],
   "source": [
    "X, Y, cat_names = load_data(sample_frac=0.1)\n",
    "# Y = Y.iloc[:, 0]\n",
    "# print(Y.value_counts())\n",
    "X_train, X_test, Y_train, Y_test = train_test_split(X, Y, random_state=42, test_size=0.25)\n",
    "\n",
    "# train classifier\n",
    "pipeline.fit(X_train, Y_train)\n",
    "\n",
    "# print(Y.shape)\n",
    "\n",
    "# predict on test data\n",
    "Y_pred = pipeline.predict(X_test)\n",
    "\n",
    "# # display results\n",
    "# display_results(Y_test, Y_pred)"
   ]
  },
  {
   "cell_type": "code",
   "execution_count": 78,
   "metadata": {},
   "outputs": [],
   "source": [
    "# train only the word processor\n",
    "X_train = pipeline.fit_transform(X_train)\n",
    "X_test = pipeline.transform(X_test)\n",
    "\n",
    "# Building the classification part of the pipeline\n",
    "clsfr = MultiOutputClassifier(LinearSVC())\n",
    "\n",
    "clsfr.fit(X_train, Y_train)\n",
    "Y_pred = clsfr.predict(X_test)"
   ]
  },
  {
   "cell_type": "markdown",
   "metadata": {},
   "source": [
    "### 5. Test your model\n",
    "Report the f1 score, precision and recall for each output category of the dataset. You can do this by iterating through the columns and calling sklearn's `classification_report` on each."
   ]
  },
  {
   "cell_type": "code",
   "execution_count": 201,
   "metadata": {},
   "outputs": [
    {
     "ename": "IndexError",
     "evalue": "too many indices for array",
     "output_type": "error",
     "traceback": [
      "\u001b[1;31m---------------------------------------------------------------------------\u001b[0m",
      "\u001b[1;31mIndexError\u001b[0m                                Traceback (most recent call last)",
      "\u001b[1;32m<ipython-input-201-2bb8b7db0b2f>\u001b[0m in \u001b[0;36m<module>\u001b[1;34m()\u001b[0m\n\u001b[0;32m      1\u001b[0m \u001b[1;32mfor\u001b[0m \u001b[0mi\u001b[0m \u001b[1;32min\u001b[0m \u001b[0mrange\u001b[0m\u001b[1;33m(\u001b[0m\u001b[1;36m4\u001b[0m\u001b[1;33m)\u001b[0m\u001b[1;33m:\u001b[0m\u001b[1;33m\u001b[0m\u001b[0m\n\u001b[1;32m----> 2\u001b[1;33m     \u001b[0mprint\u001b[0m\u001b[1;33m(\u001b[0m\u001b[0mclassification_report\u001b[0m\u001b[1;33m(\u001b[0m\u001b[0mY_test\u001b[0m\u001b[1;33m.\u001b[0m\u001b[0mvalues\u001b[0m\u001b[1;33m[\u001b[0m\u001b[1;33m:\u001b[0m\u001b[1;33m,\u001b[0m\u001b[0mi\u001b[0m\u001b[1;33m]\u001b[0m\u001b[1;33m,\u001b[0m \u001b[0mY_pred\u001b[0m\u001b[1;33m[\u001b[0m\u001b[1;33m:\u001b[0m\u001b[1;33m,\u001b[0m\u001b[0mi\u001b[0m\u001b[1;33m]\u001b[0m\u001b[1;33m)\u001b[0m\u001b[1;33m)\u001b[0m\u001b[1;33m\u001b[0m\u001b[0m\n\u001b[0m",
      "\u001b[1;31mIndexError\u001b[0m: too many indices for array"
     ]
    }
   ],
   "source": [
    "for i in range(4):\n",
    "    print(classification_report(Y_test.values[:,i], Y_pred[:,i]))"
   ]
  },
  {
   "cell_type": "markdown",
   "metadata": {},
   "source": [
    "### 6. Improve your model\n",
    "Use grid search to find better parameters. "
   ]
  },
  {
   "cell_type": "code",
   "execution_count": 147,
   "metadata": {
    "scrolled": true
   },
   "outputs": [
    {
     "name": "stdout",
     "output_type": "stream",
     "text": [
      "Fitting 3 folds for each of 8 candidates, totalling 24 fits\n",
      "[CV] vectr__max_df=1.0, vectr__min_df=0.0 ............................\n"
     ]
    },
    {
     "name": "stderr",
     "output_type": "stream",
     "text": [
      "[Parallel(n_jobs=1)]: Using backend SequentialBackend with 1 concurrent workers.\n"
     ]
    },
    {
     "name": "stdout",
     "output_type": "stream",
     "text": [
      "[CV]  vectr__max_df=1.0, vectr__min_df=0.0, score=0.7127898967590667, total=  16.4s\n",
      "[CV] vectr__max_df=1.0, vectr__min_df=0.0 ............................\n"
     ]
    },
    {
     "name": "stderr",
     "output_type": "stream",
     "text": [
      "[Parallel(n_jobs=1)]: Done   1 out of   1 | elapsed:   27.8s remaining:    0.0s\n"
     ]
    },
    {
     "name": "stdout",
     "output_type": "stream",
     "text": [
      "[CV]  vectr__max_df=1.0, vectr__min_df=0.0, score=0.7212080304774412, total=  16.9s\n",
      "[CV] vectr__max_df=1.0, vectr__min_df=0.0 ............................\n"
     ]
    },
    {
     "name": "stderr",
     "output_type": "stream",
     "text": [
      "[Parallel(n_jobs=1)]: Done   2 out of   2 | elapsed:   55.9s remaining:    0.0s\n"
     ]
    },
    {
     "name": "stdout",
     "output_type": "stream",
     "text": [
      "[CV]  vectr__max_df=1.0, vectr__min_df=0.0, score=0.7413184335905869, total=  16.8s\n",
      "[CV] vectr__max_df=1.0, vectr__min_df=0.01 ...........................\n"
     ]
    },
    {
     "name": "stderr",
     "output_type": "stream",
     "text": [
      "[Parallel(n_jobs=1)]: Done   3 out of   3 | elapsed:  1.4min remaining:    0.0s\n"
     ]
    },
    {
     "name": "stdout",
     "output_type": "stream",
     "text": [
      "[CV]  vectr__max_df=1.0, vectr__min_df=0.01, score=0.7133483865761051, total=  16.8s\n",
      "[CV] vectr__max_df=1.0, vectr__min_df=0.01 ...........................\n",
      "[CV]  vectr__max_df=1.0, vectr__min_df=0.01, score=0.7265031659935167, total=  16.9s\n",
      "[CV] vectr__max_df=1.0, vectr__min_df=0.01 ...........................\n",
      "[CV]  vectr__max_df=1.0, vectr__min_df=0.01, score=0.7215772256285989, total=  16.9s\n",
      "[CV] vectr__max_df=0.8, vectr__min_df=0.0 ............................\n",
      "[CV]  vectr__max_df=0.8, vectr__min_df=0.0, score=0.7127898967590667, total=  17.3s\n",
      "[CV] vectr__max_df=0.8, vectr__min_df=0.0 ............................\n",
      "[CV]  vectr__max_df=0.8, vectr__min_df=0.0, score=0.7212080304774412, total=  17.8s\n",
      "[CV] vectr__max_df=0.8, vectr__min_df=0.0 ............................\n",
      "[CV]  vectr__max_df=0.8, vectr__min_df=0.0, score=0.7413184335905869, total=  17.2s\n",
      "[CV] vectr__max_df=0.8, vectr__min_df=0.01 ...........................\n",
      "[CV]  vectr__max_df=0.8, vectr__min_df=0.01, score=0.7133483865761051, total=  17.4s\n",
      "[CV] vectr__max_df=0.8, vectr__min_df=0.01 ...........................\n",
      "[CV]  vectr__max_df=0.8, vectr__min_df=0.01, score=0.7265031659935167, total=  17.3s\n",
      "[CV] vectr__max_df=0.8, vectr__min_df=0.01 ...........................\n",
      "[CV]  vectr__max_df=0.8, vectr__min_df=0.01, score=0.7215772256285989, total=  17.6s\n",
      "[CV] vectr__max_df=0.7, vectr__min_df=0.0 ............................\n",
      "[CV]  vectr__max_df=0.7, vectr__min_df=0.0, score=0.7127898967590667, total=  17.1s\n",
      "[CV] vectr__max_df=0.7, vectr__min_df=0.0 ............................\n",
      "[CV]  vectr__max_df=0.7, vectr__min_df=0.0, score=0.7212080304774412, total=  17.4s\n",
      "[CV] vectr__max_df=0.7, vectr__min_df=0.0 ............................\n",
      "[CV]  vectr__max_df=0.7, vectr__min_df=0.0, score=0.7413184335905869, total=  17.0s\n",
      "[CV] vectr__max_df=0.7, vectr__min_df=0.01 ...........................\n",
      "[CV]  vectr__max_df=0.7, vectr__min_df=0.01, score=0.7133483865761051, total=  17.4s\n",
      "[CV] vectr__max_df=0.7, vectr__min_df=0.01 ...........................\n",
      "[CV]  vectr__max_df=0.7, vectr__min_df=0.01, score=0.7265031659935167, total=  17.4s\n",
      "[CV] vectr__max_df=0.7, vectr__min_df=0.01 ...........................\n",
      "[CV]  vectr__max_df=0.7, vectr__min_df=0.01, score=0.7215772256285989, total=  17.7s\n",
      "[CV] vectr__max_df=0.6, vectr__min_df=0.0 ............................\n",
      "[CV]  vectr__max_df=0.6, vectr__min_df=0.0, score=0.7127898967590667, total=  17.5s\n",
      "[CV] vectr__max_df=0.6, vectr__min_df=0.0 ............................\n",
      "[CV]  vectr__max_df=0.6, vectr__min_df=0.0, score=0.7212080304774412, total=  17.0s\n",
      "[CV] vectr__max_df=0.6, vectr__min_df=0.0 ............................\n",
      "[CV]  vectr__max_df=0.6, vectr__min_df=0.0, score=0.7413184335905869, total=  17.5s\n",
      "[CV] vectr__max_df=0.6, vectr__min_df=0.01 ...........................\n",
      "[CV]  vectr__max_df=0.6, vectr__min_df=0.01, score=0.7133483865761051, total=  17.0s\n",
      "[CV] vectr__max_df=0.6, vectr__min_df=0.01 ...........................\n",
      "[CV]  vectr__max_df=0.6, vectr__min_df=0.01, score=0.7265031659935167, total=  17.1s\n",
      "[CV] vectr__max_df=0.6, vectr__min_df=0.01 ...........................\n",
      "[CV]  vectr__max_df=0.6, vectr__min_df=0.01, score=0.7215772256285989, total=  16.9s\n"
     ]
    },
    {
     "name": "stderr",
     "output_type": "stream",
     "text": [
      "[Parallel(n_jobs=1)]: Done  24 out of  24 | elapsed: 11.5min finished\n"
     ]
    }
   ],
   "source": [
    "parameters = {'vectr__max_df' : [1.0, 0.8, 0.7, 0.6],\n",
    "              'vectr__min_df' : [0.0, 0.01]}\n",
    "\n",
    "cv = GridSearchCV(pipeline, param_grid=parameters, scoring='f1_weighted', cv=3, verbose=4)\n",
    "\n",
    "cv.fit(X_train, Y_train)\n",
    "\n",
    "model = cv.best_estimator_"
   ]
  },
  {
   "cell_type": "markdown",
   "metadata": {},
   "source": [
    "### 7. Test your model\n",
    "Show the accuracy, precision, and recall of the tuned model.  \n",
    "\n",
    "Since this project focuses on code quality, process, and  pipelines, there is no minimum performance metric needed to pass. However, make sure to fine tune your models for accuracy, precision and recall to make your project stand out - especially for your portfolio!"
   ]
  },
  {
   "cell_type": "code",
   "execution_count": 148,
   "metadata": {},
   "outputs": [
    {
     "data": {
      "text/plain": [
       "{'clsfr': MultiOutputClassifier(estimator=LinearSVC(C=1.0, class_weight=None, dual=True, fit_intercept=True,\n",
       "      intercept_scaling=1, loss='squared_hinge', max_iter=1000,\n",
       "      multi_class='ovr', penalty='l2', random_state=None, tol=0.0001,\n",
       "      verbose=0),\n",
       "            n_jobs=None),\n",
       " 'clsfr__estimator': LinearSVC(C=1.0, class_weight=None, dual=True, fit_intercept=True,\n",
       "      intercept_scaling=1, loss='squared_hinge', max_iter=1000,\n",
       "      multi_class='ovr', penalty='l2', random_state=None, tol=0.0001,\n",
       "      verbose=0),\n",
       " 'clsfr__estimator__C': 1.0,\n",
       " 'clsfr__estimator__class_weight': None,\n",
       " 'clsfr__estimator__dual': True,\n",
       " 'clsfr__estimator__fit_intercept': True,\n",
       " 'clsfr__estimator__intercept_scaling': 1,\n",
       " 'clsfr__estimator__loss': 'squared_hinge',\n",
       " 'clsfr__estimator__max_iter': 1000,\n",
       " 'clsfr__estimator__multi_class': 'ovr',\n",
       " 'clsfr__estimator__penalty': 'l2',\n",
       " 'clsfr__estimator__random_state': None,\n",
       " 'clsfr__estimator__tol': 0.0001,\n",
       " 'clsfr__estimator__verbose': 0,\n",
       " 'clsfr__n_jobs': None,\n",
       " 'memory': None,\n",
       " 'steps': [('vectr',\n",
       "   CountVectorizer(analyzer='word', binary=False, decode_error='strict',\n",
       "           dtype=<class 'numpy.int64'>, encoding='utf-8', input='content',\n",
       "           lowercase=True, max_df=1.0, max_features=None, min_df=0.0,\n",
       "           ngram_range=(1, 1), preprocessor=None, stop_words=None,\n",
       "           strip_accents=None, token_pattern='(?u)\\\\b\\\\w\\\\w+\\\\b',\n",
       "           tokenizer=<function tokenize at 0x000001ED8F76B268>,\n",
       "           vocabulary=None)),\n",
       "  ('tfidf',\n",
       "   TfidfTransformer(norm='l2', smooth_idf=True, sublinear_tf=False, use_idf=True)),\n",
       "  ('clsfr',\n",
       "   MultiOutputClassifier(estimator=LinearSVC(C=1.0, class_weight=None, dual=True, fit_intercept=True,\n",
       "        intercept_scaling=1, loss='squared_hinge', max_iter=1000,\n",
       "        multi_class='ovr', penalty='l2', random_state=None, tol=0.0001,\n",
       "        verbose=0),\n",
       "              n_jobs=None))],\n",
       " 'tfidf': TfidfTransformer(norm='l2', smooth_idf=True, sublinear_tf=False, use_idf=True),\n",
       " 'tfidf__norm': 'l2',\n",
       " 'tfidf__smooth_idf': True,\n",
       " 'tfidf__sublinear_tf': False,\n",
       " 'tfidf__use_idf': True,\n",
       " 'vectr': CountVectorizer(analyzer='word', binary=False, decode_error='strict',\n",
       "         dtype=<class 'numpy.int64'>, encoding='utf-8', input='content',\n",
       "         lowercase=True, max_df=1.0, max_features=None, min_df=0.0,\n",
       "         ngram_range=(1, 1), preprocessor=None, stop_words=None,\n",
       "         strip_accents=None, token_pattern='(?u)\\\\b\\\\w\\\\w+\\\\b',\n",
       "         tokenizer=<function tokenize at 0x000001ED8F76B268>,\n",
       "         vocabulary=None),\n",
       " 'vectr__analyzer': 'word',\n",
       " 'vectr__binary': False,\n",
       " 'vectr__decode_error': 'strict',\n",
       " 'vectr__dtype': numpy.int64,\n",
       " 'vectr__encoding': 'utf-8',\n",
       " 'vectr__input': 'content',\n",
       " 'vectr__lowercase': True,\n",
       " 'vectr__max_df': 1.0,\n",
       " 'vectr__max_features': None,\n",
       " 'vectr__min_df': 0.0,\n",
       " 'vectr__ngram_range': (1, 1),\n",
       " 'vectr__preprocessor': None,\n",
       " 'vectr__stop_words': None,\n",
       " 'vectr__strip_accents': None,\n",
       " 'vectr__token_pattern': '(?u)\\\\b\\\\w\\\\w+\\\\b',\n",
       " 'vectr__tokenizer': <function __main__.tokenize>,\n",
       " 'vectr__vocabulary': None}"
      ]
     },
     "execution_count": 148,
     "metadata": {},
     "output_type": "execute_result"
    }
   ],
   "source": [
    "Y_pred = model.predict(X_test)\n",
    "model.get_params()"
   ]
  },
  {
   "cell_type": "markdown",
   "metadata": {},
   "source": [
    "### 8. Try improving your model further. Here are a few ideas:\n",
    "* try other machine learning algorithms\n",
    "* add other features besides the TF-IDF"
   ]
  },
  {
   "cell_type": "code",
   "execution_count": null,
   "metadata": {},
   "outputs": [],
   "source": []
  },
  {
   "cell_type": "markdown",
   "metadata": {},
   "source": [
    "### 9. Export your model as a pickle file"
   ]
  },
  {
   "cell_type": "code",
   "execution_count": null,
   "metadata": {},
   "outputs": [],
   "source": []
  },
  {
   "cell_type": "markdown",
   "metadata": {},
   "source": [
    "### 10. Use this notebook to complete `train.py`\n",
    "Use the template file attached in the Resources folder to write a script that runs the steps above to create a database and export a model based on a new dataset specified by the user."
   ]
  },
  {
   "cell_type": "code",
   "execution_count": null,
   "metadata": {},
   "outputs": [],
   "source": []
  }
 ],
 "metadata": {
  "kernelspec": {
   "display_name": "Python 3",
   "language": "python",
   "name": "python3"
  },
  "language_info": {
   "codemirror_mode": {
    "name": "ipython",
    "version": 3
   },
   "file_extension": ".py",
   "mimetype": "text/x-python",
   "name": "python",
   "nbconvert_exporter": "python",
   "pygments_lexer": "ipython3",
   "version": "3.5.3"
  }
 },
 "nbformat": 4,
 "nbformat_minor": 2
}
